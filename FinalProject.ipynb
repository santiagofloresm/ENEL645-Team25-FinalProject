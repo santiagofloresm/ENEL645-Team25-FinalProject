{
  "nbformat": 4,
  "nbformat_minor": 0,
  "metadata": {
    "language_info": {
      "codemirror_mode": {
        "name": "ipython",
        "version": 3
      },
      "file_extension": ".py",
      "mimetype": "text/x-python",
      "name": "python",
      "nbconvert_exporter": "python",
      "pygments_lexer": "ipython3",
      "version": "3.8.5-final"
    },
    "orig_nbformat": 2,
    "kernelspec": {
      "name": "python3",
      "display_name": "Python 3",
      "language": "python"
    },
    "colab": {
      "name": "FinalProject.ipynb",
      "provenance": []
    }
  },
  "cells": [
    {
      "cell_type": "markdown",
      "metadata": {
        "id": "Y009cMb97AqX"
      },
      "source": [
        "# Final Project\r\n",
        "## Team 25\r\n",
        "Santiago Flores - 30119885\r\n",
        "\r\n",
        "Davis Allan - 10016543\r\n",
        "\r\n",
        "Jordan Joorisity - 30117950\r\n",
        "\r\n",
        "Patrick Pickard - 30116807\r\n",
        "\r\n",
        "Joshua Posyluzny - 30118206"
      ]
    },
    {
      "cell_type": "code",
      "metadata": {
        "id": "ZDgygIIm7DJS"
      },
      "source": [
        ""
      ],
      "execution_count": null,
      "outputs": []
    }
  ]
}